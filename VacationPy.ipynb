{
 "cells": [
  {
   "cell_type": "code",
   "execution_count": 1,
   "metadata": {},
   "outputs": [],
   "source": [
    "## 6.5.2  Create Heatmaps for Weather Parameters\n",
    "# Import Dependencies\n",
    "import pandas as pd  # the pandas for handling csv files\n",
    "import gmaps # the gmaps for heatmaps\n",
    "import requests # the html library for request Google Places JSON file\n",
    "# Import the gmaps API key\n",
    "from config import g_key ## for gmaps heatmaps"
   ]
  },
  {
   "cell_type": "code",
   "execution_count": 2,
   "metadata": {},
   "outputs": [
    {
     "data": {
      "text/html": [
       "<div>\n",
       "<style scoped>\n",
       "    .dataframe tbody tr th:only-of-type {\n",
       "        vertical-align: middle;\n",
       "    }\n",
       "\n",
       "    .dataframe tbody tr th {\n",
       "        vertical-align: top;\n",
       "    }\n",
       "\n",
       "    .dataframe thead th {\n",
       "        text-align: right;\n",
       "    }\n",
       "</style>\n",
       "<table border=\"1\" class=\"dataframe\">\n",
       "  <thead>\n",
       "    <tr style=\"text-align: right;\">\n",
       "      <th></th>\n",
       "      <th>City_ID</th>\n",
       "      <th>City</th>\n",
       "      <th>Country</th>\n",
       "      <th>Date</th>\n",
       "      <th>Lat</th>\n",
       "      <th>Lng</th>\n",
       "      <th>Max Temp</th>\n",
       "      <th>Humidity</th>\n",
       "      <th>Cloudiness</th>\n",
       "      <th>Wind Speed</th>\n",
       "    </tr>\n",
       "  </thead>\n",
       "  <tbody>\n",
       "    <tr>\n",
       "      <th>0</th>\n",
       "      <td>0</td>\n",
       "      <td>Boa Vista</td>\n",
       "      <td>BR</td>\n",
       "      <td>2020-01-12 20:32:36</td>\n",
       "      <td>2.82</td>\n",
       "      <td>-60.67</td>\n",
       "      <td>91.40</td>\n",
       "      <td>36</td>\n",
       "      <td>40</td>\n",
       "      <td>17.22</td>\n",
       "    </tr>\n",
       "    <tr>\n",
       "      <th>1</th>\n",
       "      <td>1</td>\n",
       "      <td>Wilmington</td>\n",
       "      <td>US</td>\n",
       "      <td>2020-01-12 20:34:32</td>\n",
       "      <td>34.23</td>\n",
       "      <td>-77.94</td>\n",
       "      <td>75.20</td>\n",
       "      <td>94</td>\n",
       "      <td>90</td>\n",
       "      <td>13.87</td>\n",
       "    </tr>\n",
       "    <tr>\n",
       "      <th>2</th>\n",
       "      <td>2</td>\n",
       "      <td>Albany</td>\n",
       "      <td>US</td>\n",
       "      <td>2020-01-12 20:33:08</td>\n",
       "      <td>42.60</td>\n",
       "      <td>-73.97</td>\n",
       "      <td>46.99</td>\n",
       "      <td>52</td>\n",
       "      <td>40</td>\n",
       "      <td>20.80</td>\n",
       "    </tr>\n",
       "    <tr>\n",
       "      <th>3</th>\n",
       "      <td>3</td>\n",
       "      <td>Esperance</td>\n",
       "      <td>AU</td>\n",
       "      <td>2020-01-12 20:36:49</td>\n",
       "      <td>-33.87</td>\n",
       "      <td>121.90</td>\n",
       "      <td>64.40</td>\n",
       "      <td>72</td>\n",
       "      <td>90</td>\n",
       "      <td>12.75</td>\n",
       "    </tr>\n",
       "    <tr>\n",
       "      <th>4</th>\n",
       "      <td>4</td>\n",
       "      <td>Jamestown</td>\n",
       "      <td>US</td>\n",
       "      <td>2020-01-12 20:36:49</td>\n",
       "      <td>42.10</td>\n",
       "      <td>-79.24</td>\n",
       "      <td>33.01</td>\n",
       "      <td>86</td>\n",
       "      <td>90</td>\n",
       "      <td>11.41</td>\n",
       "    </tr>\n",
       "  </tbody>\n",
       "</table>\n",
       "</div>"
      ],
      "text/plain": [
       "   City_ID        City Country                 Date    Lat     Lng  Max Temp  \\\n",
       "0        0   Boa Vista      BR  2020-01-12 20:32:36   2.82  -60.67     91.40   \n",
       "1        1  Wilmington      US  2020-01-12 20:34:32  34.23  -77.94     75.20   \n",
       "2        2      Albany      US  2020-01-12 20:33:08  42.60  -73.97     46.99   \n",
       "3        3   Esperance      AU  2020-01-12 20:36:49 -33.87  121.90     64.40   \n",
       "4        4   Jamestown      US  2020-01-12 20:36:49  42.10  -79.24     33.01   \n",
       "\n",
       "   Humidity  Cloudiness  Wind Speed  \n",
       "0        36          40       17.22  \n",
       "1        94          90       13.87  \n",
       "2        52          40       20.80  \n",
       "3        72          90       12.75  \n",
       "4        86          90       11.41  "
      ]
     },
     "execution_count": 2,
     "metadata": {},
     "output_type": "execute_result"
    }
   ],
   "source": [
    "# retrieve city data DF\n",
    "city_data_df = pd.read_csv(\"weather_data/cities.csv\")\n",
    "city_data_df.head()"
   ]
  },
  {
   "cell_type": "code",
   "execution_count": null,
   "metadata": {},
   "outputs": [],
   "source": [
    "## Validate our data is integet or floating-point decimal.\n",
    "#city_data_df.info()  "
   ]
  },
  {
   "cell_type": "code",
   "execution_count": null,
   "metadata": {},
   "outputs": [],
   "source": [
    "## what's up with Max Temp negative values\n",
    "# city_data_df.sort_values(by= \"Max Temp\")\n",
    "# city_data_df.head()"
   ]
  },
  {
   "cell_type": "code",
   "execution_count": 3,
   "metadata": {},
   "outputs": [],
   "source": [
    "## convert max_temp to temps great than 0.\n",
    "## practice pandas max() command\n",
    "max_temp = city_data_df[\"Max Temp\"]\n",
    "temps= []\n",
    "for temp in max_temp:\n",
    "    temps.append(max(temp,0))"
   ]
  },
  {
   "cell_type": "code",
   "execution_count": 5,
   "metadata": {},
   "outputs": [],
   "source": [
    "#print(temps)"
   ]
  },
  {
   "cell_type": "code",
   "execution_count": 6,
   "metadata": {},
   "outputs": [],
   "source": [
    "# configure gmaps to use my key\n",
    "gmaps.configure(api_key=g_key)"
   ]
  },
  {
   "cell_type": "code",
   "execution_count": null,
   "metadata": {},
   "outputs": [],
   "source": [
    "## needed to install and enable stuff to make this work.\n",
    "## from conda prompt\n",
    "\n",
    "## conda install -c conda-forge ipywidgets\n",
    "## jupyter nbextension enable --py gmaps\n"
   ]
  },
  {
   "cell_type": "code",
   "execution_count": null,
   "metadata": {},
   "outputs": [],
   "source": [
    "## 6.5.2 My first Heatmap: locations by Maximum Temp\n",
    "\n",
    "# ## This is the general syntax. Don't mess it up!!\n",
    "# # 1. Assign the locations to an array of latitude and longitude pairs.\n",
    "# locations = [latitude, longitude]\n",
    "# # 2. Assign the weights variable to some values.\n",
    "# temperatures = # an array of equal length of the locations array.\n",
    "# # 3. Assign the figure variable to the gmaps.figure() attribute.\n",
    "# fig = gmaps.figure()\n",
    "# # 4. Assign the heatmap_layer variable to the heatmap_layer attribute and add in the locations.\n",
    "# heatmap_layer = gmaps.heatmap_layer(locations, weights=temperatures)\n",
    "\n",
    "# # 5. Add the heatmap layer.\n",
    "# fig.add_layer(heatmap_layer)\n",
    "# # 6. Call the figure to plot the data.\n",
    "# fig"
   ]
  },
  {
   "cell_type": "code",
   "execution_count": 7,
   "metadata": {},
   "outputs": [
    {
     "data": {
      "application/vnd.jupyter.widget-view+json": {
       "model_id": "8c53a473c9bc4d02bf01c3e536d9acaf",
       "version_major": 2,
       "version_minor": 0
      },
      "text/plain": [
       "Figure(layout=FigureLayout(height='420px'))"
      ]
     },
     "metadata": {},
     "output_type": "display_data"
    }
   ],
   "source": [
    "## 6.5.2 Create the heat map\n",
    "\n",
    "# 1. Locations\n",
    "locations = city_data_df[[\"Lat\", \"Lng\"]]\n",
    "# 2. Set Max Temp as y var\n",
    "#max_temp =  city_data_df[\"Max Temp\"] \n",
    "#max_temp =  city_data_df[\"Max Temp\"] \n",
    "# 3. Assign the figure variable \n",
    "fig = gmaps.figure()\n",
    "# 4. Assign the heatmap_layer variable to the heatmap_layer attribute and add in the locations.\n",
    "heat_layer = gmaps.heatmap_layer(locations, weights=temps)\n",
    "# 5. Add the heatmap layer.\n",
    "fig.add_layer(heat_layer)\n",
    "# 6. Call the figure to plot the data.\n",
    "fig"
   ]
  },
  {
   "cell_type": "code",
   "execution_count": 8,
   "metadata": {},
   "outputs": [
    {
     "data": {
      "application/vnd.jupyter.widget-view+json": {
       "model_id": "fde6ca9d6af44f09bd03ddd7b572dd74",
       "version_major": 2,
       "version_minor": 0
      },
      "text/plain": [
       "Figure(layout=FigureLayout(height='420px'))"
      ]
     },
     "metadata": {},
     "output_type": "display_data"
    }
   ],
   "source": [
    "## 6.5.2 Create the heat map again using list comprehension\n",
    "# Heatmap of temperature\n",
    "# Get the latitude and longitude.\n",
    "locations = city_data_df[[\"Lat\", \"Lng\"]]\n",
    "# Get the maximum temperature.\n",
    "max_temp = city_data_df[\"Max Temp\"]\n",
    "# Assign the figure variable.\n",
    "fig = gmaps.figure()\n",
    "# Add a center and Zoom.  30 deg north 31 east\n",
    "fig= gmaps.figure(center=(30.0, 31.0), zoom_level=1.5)\n",
    "## Assign the heatmap variable.\n",
    "# dissipation default is True. Set to False\n",
    "# max_intensity - makes each measurement have a better gradiant variance\n",
    "# point_radius - point radius size\n",
    "heat_layer = gmaps.heatmap_layer(locations,weights=[max(temp, 0) for temp in max_temp],dissipating=False,max_intensity=300, point_radius=4)\n",
    "# Add the heatmap layer.\n",
    "fig.add_layer(heat_layer)\n",
    "\n",
    "# Call the figure to plot the data.\n",
    "fig"
   ]
  },
  {
   "cell_type": "code",
   "execution_count": 9,
   "metadata": {},
   "outputs": [
    {
     "data": {
      "application/vnd.jupyter.widget-view+json": {
       "model_id": "d22d7e9e7a3c4050bab16092df198549",
       "version_major": 2,
       "version_minor": 0
      },
      "text/plain": [
       "Figure(layout=FigureLayout(height='420px'))"
      ]
     },
     "metadata": {},
     "output_type": "display_data"
    }
   ],
   "source": [
    "### 6.5.2 Heatmap of Percent Humidity\n",
    "# Get the latitude and longitude.\n",
    "locations = city_data_df[[\"Lat\", \"Lng\"]]\n",
    "# Get the Humidity\n",
    "humidity = city_data_df[\"Humidity\"]\n",
    "# Assign the figure variable.\n",
    "fig = gmaps.figure()\n",
    "# Add a center and Zoom.  30 deg north 31 east\n",
    "fig= gmaps.figure(center=(30.0, 31.0), zoom_level=1.5)\n",
    "## Assign the heatmap variable.# dissipation default is True. Set to False\n",
    "# max_intensity - makes each measurement have a better gradiant variance\n",
    "# point_radius - point radius size\n",
    "heat_layer = gmaps.heatmap_layer(locations,weights=humidity,dissipating=False,max_intensity=300, point_radius=4)\n",
    "# Add the heatmap layer.\n",
    "fig.add_layer(heat_layer)\n",
    "\n",
    "# Call the figure to plot the data.\n",
    "fig"
   ]
  },
  {
   "cell_type": "code",
   "execution_count": 10,
   "metadata": {},
   "outputs": [
    {
     "data": {
      "application/vnd.jupyter.widget-view+json": {
       "model_id": "23efa84a6739469fad886eec6faa4907",
       "version_major": 2,
       "version_minor": 0
      },
      "text/plain": [
       "Figure(layout=FigureLayout(height='420px'))"
      ]
     },
     "metadata": {},
     "output_type": "display_data"
    }
   ],
   "source": [
    "### 6.5.2 Heatmap of Percent Cloudiness\n",
    "# Get the latitude and longitude.\n",
    "locations = city_data_df[[\"Lat\", \"Lng\"]]\n",
    "# Get the cloudiness\n",
    "cloudiness = city_data_df[\"Cloudiness\"]\n",
    "# Assign the figure variable.\n",
    "fig = gmaps.figure()\n",
    "# Add a center and Zoom.  30 deg north 31 east\n",
    "fig= gmaps.figure(center=(30.0, 31.0), zoom_level=1.5)\n",
    "## Assign the heatmap variable.# dissipation default is True. Set to False\n",
    "# max_intensity - makes each measurement have a better gradiant variance\n",
    "# point_radius - point radius size\n",
    "heat_layer = gmaps.heatmap_layer(locations,weights=cloudiness,dissipating=False,max_intensity=300, point_radius=4)\n",
    "# Add the heatmap layer.\n",
    "fig.add_layer(heat_layer)\n",
    "\n",
    "# Call the figure to plot the data.\n",
    "fig"
   ]
  },
  {
   "cell_type": "code",
   "execution_count": 11,
   "metadata": {},
   "outputs": [
    {
     "data": {
      "application/vnd.jupyter.widget-view+json": {
       "model_id": "0a1b57ef176146c0a7dd53b9daea6579",
       "version_major": 2,
       "version_minor": 0
      },
      "text/plain": [
       "Figure(layout=FigureLayout(height='420px'))"
      ]
     },
     "metadata": {},
     "output_type": "display_data"
    }
   ],
   "source": [
    "### 6.5.2 Heatmap of Percent Wind Speed\n",
    "# Get the latitude and longitude.\n",
    "locations = city_data_df[[\"Lat\", \"Lng\"]]\n",
    "# Get the Wind Speed\n",
    "wind_speed = city_data_df[\"Wind Speed\"]\n",
    "# Assign the figure variable.\n",
    "fig = gmaps.figure()\n",
    "# Add a center and Zoom.  30 deg north 31 east\n",
    "fig= gmaps.figure(center=(30.0, 31.0), zoom_level=1.5)\n",
    "## Assign the heatmap variable.# dissipation default is True. Set to False\n",
    "# max_intensity - makes each measurement have a better gradiant variance\n",
    "# point_radius - point radius size\n",
    "heat_layer = gmaps.heatmap_layer(locations,weights=wind_speed,dissipating=False,max_intensity=300, point_radius=4)\n",
    "# Add the heatmap layer.\n",
    "fig.add_layer(heat_layer)\n",
    "\n",
    "# Call the figure to plot the data.\n",
    "fig"
   ]
  },
  {
   "cell_type": "code",
   "execution_count": 12,
   "metadata": {},
   "outputs": [
    {
     "name": "stdout",
     "output_type": "stream",
     "text": [
      "What is the minimum temperature you would like for your trip? 70\n",
      "What is the maximum temperature you would like for your trip? 85\n"
     ]
    }
   ],
   "source": [
    "###  6.5.3 Get Vacation Criteria\n",
    "\n",
    "# Prompt customer to add a minimum and maximum temperature value.\n",
    "min_temp = float(input(\"What is the minimum temperature you would like for your trip? \"))\n",
    "max_temp = float(input(\"What is the maximum temperature you would like for your trip? \"))"
   ]
  },
  {
   "cell_type": "code",
   "execution_count": 13,
   "metadata": {},
   "outputs": [
    {
     "data": {
      "text/plain": [
       "70.0"
      ]
     },
     "execution_count": 13,
     "metadata": {},
     "output_type": "execute_result"
    }
   ],
   "source": [
    "# Check\n",
    "min_temp"
   ]
  },
  {
   "cell_type": "code",
   "execution_count": 14,
   "metadata": {},
   "outputs": [],
   "source": [
    "## Filter dataset to preferrered cities\n",
    "preferred_cities_df = city_data_df.loc[(city_data_df[\"Max Temp\"] <= max_temp) & \\\n",
    "                                       (city_data_df[\"Max Temp\"] >= min_temp)]"
   ]
  },
  {
   "cell_type": "code",
   "execution_count": 15,
   "metadata": {},
   "outputs": [
    {
     "name": "stdout",
     "output_type": "stream",
     "text": [
      "<class 'pandas.core.frame.DataFrame'>\n",
      "Int64Index: 173 entries, 1 to 556\n",
      "Data columns (total 10 columns):\n",
      "City_ID       173 non-null int64\n",
      "City          173 non-null object\n",
      "Country       172 non-null object\n",
      "Date          173 non-null object\n",
      "Lat           173 non-null float64\n",
      "Lng           173 non-null float64\n",
      "Max Temp      173 non-null float64\n",
      "Humidity      173 non-null int64\n",
      "Cloudiness    173 non-null int64\n",
      "Wind Speed    173 non-null float64\n",
      "dtypes: float64(4), int64(3), object(3)\n",
      "memory usage: 14.9+ KB\n"
     ]
    }
   ],
   "source": [
    "preferred_cities_df.info()"
   ]
  },
  {
   "cell_type": "code",
   "execution_count": 16,
   "metadata": {},
   "outputs": [
    {
     "name": "stderr",
     "output_type": "stream",
     "text": [
      "C:\\Users\\Marishka\\Anaconda3\\envs\\PythonData\\lib\\site-packages\\ipykernel_launcher.py:3: SettingWithCopyWarning: \n",
      "A value is trying to be set on a copy of a slice from a DataFrame\n",
      "\n",
      "See the caveats in the documentation: http://pandas.pydata.org/pandas-docs/stable/user_guide/indexing.html#returning-a-view-versus-a-copy\n",
      "  This is separate from the ipykernel package so we can avoid doing imports until\n"
     ]
    }
   ],
   "source": [
    "## Drop row which had no value for country\n",
    "#   how : {‘any’, ‘all’}, default ‘any’\n",
    "preferred_cities_df.dropna(inplace=True)"
   ]
  },
  {
   "cell_type": "code",
   "execution_count": 27,
   "metadata": {},
   "outputs": [
    {
     "data": {
      "text/html": [
       "<div>\n",
       "<style scoped>\n",
       "    .dataframe tbody tr th:only-of-type {\n",
       "        vertical-align: middle;\n",
       "    }\n",
       "\n",
       "    .dataframe tbody tr th {\n",
       "        vertical-align: top;\n",
       "    }\n",
       "\n",
       "    .dataframe thead th {\n",
       "        text-align: right;\n",
       "    }\n",
       "</style>\n",
       "<table border=\"1\" class=\"dataframe\">\n",
       "  <thead>\n",
       "    <tr style=\"text-align: right;\">\n",
       "      <th></th>\n",
       "      <th>City_ID</th>\n",
       "      <th>City</th>\n",
       "      <th>Country</th>\n",
       "      <th>Date</th>\n",
       "      <th>Lat</th>\n",
       "      <th>Lng</th>\n",
       "      <th>Max Temp</th>\n",
       "      <th>Humidity</th>\n",
       "      <th>Cloudiness</th>\n",
       "      <th>Wind Speed</th>\n",
       "    </tr>\n",
       "  </thead>\n",
       "  <tbody>\n",
       "    <tr>\n",
       "      <th>1</th>\n",
       "      <td>1</td>\n",
       "      <td>Wilmington</td>\n",
       "      <td>US</td>\n",
       "      <td>2020-01-12 20:34:32</td>\n",
       "      <td>34.23</td>\n",
       "      <td>-77.94</td>\n",
       "      <td>75.20</td>\n",
       "      <td>94</td>\n",
       "      <td>90</td>\n",
       "      <td>13.87</td>\n",
       "    </tr>\n",
       "    <tr>\n",
       "      <th>8</th>\n",
       "      <td>8</td>\n",
       "      <td>Atuona</td>\n",
       "      <td>PF</td>\n",
       "      <td>2020-01-12 20:36:50</td>\n",
       "      <td>-9.80</td>\n",
       "      <td>-139.03</td>\n",
       "      <td>81.00</td>\n",
       "      <td>77</td>\n",
       "      <td>0</td>\n",
       "      <td>17.67</td>\n",
       "    </tr>\n",
       "    <tr>\n",
       "      <th>10</th>\n",
       "      <td>10</td>\n",
       "      <td>Rikitea</td>\n",
       "      <td>PF</td>\n",
       "      <td>2020-01-12 20:36:50</td>\n",
       "      <td>-23.12</td>\n",
       "      <td>-134.97</td>\n",
       "      <td>76.51</td>\n",
       "      <td>80</td>\n",
       "      <td>4</td>\n",
       "      <td>17.07</td>\n",
       "    </tr>\n",
       "    <tr>\n",
       "      <th>11</th>\n",
       "      <td>11</td>\n",
       "      <td>Butaritari</td>\n",
       "      <td>KI</td>\n",
       "      <td>2020-01-12 20:36:50</td>\n",
       "      <td>3.07</td>\n",
       "      <td>172.79</td>\n",
       "      <td>83.52</td>\n",
       "      <td>77</td>\n",
       "      <td>100</td>\n",
       "      <td>13.60</td>\n",
       "    </tr>\n",
       "    <tr>\n",
       "      <th>13</th>\n",
       "      <td>13</td>\n",
       "      <td>Sao Felix Do Xingu</td>\n",
       "      <td>BR</td>\n",
       "      <td>2020-01-12 20:36:51</td>\n",
       "      <td>-6.64</td>\n",
       "      <td>-51.99</td>\n",
       "      <td>76.26</td>\n",
       "      <td>84</td>\n",
       "      <td>100</td>\n",
       "      <td>3.33</td>\n",
       "    </tr>\n",
       "  </tbody>\n",
       "</table>\n",
       "</div>"
      ],
      "text/plain": [
       "    City_ID                City Country                 Date    Lat     Lng  \\\n",
       "1         1          Wilmington      US  2020-01-12 20:34:32  34.23  -77.94   \n",
       "8         8              Atuona      PF  2020-01-12 20:36:50  -9.80 -139.03   \n",
       "10       10             Rikitea      PF  2020-01-12 20:36:50 -23.12 -134.97   \n",
       "11       11          Butaritari      KI  2020-01-12 20:36:50   3.07  172.79   \n",
       "13       13  Sao Felix Do Xingu      BR  2020-01-12 20:36:51  -6.64  -51.99   \n",
       "\n",
       "    Max Temp  Humidity  Cloudiness  Wind Speed  \n",
       "1      75.20        94          90       13.87  \n",
       "8      81.00        77           0       17.67  \n",
       "10     76.51        80           4       17.07  \n",
       "11     83.52        77         100       13.60  \n",
       "13     76.26        84         100        3.33  "
      ]
     },
     "execution_count": 27,
     "metadata": {},
     "output_type": "execute_result"
    }
   ],
   "source": [
    "## review. we got 172 cities.\n",
    "#preferred_cities_df.count()\n",
    "preferred_cities_df.head()\n"
   ]
  },
  {
   "cell_type": "code",
   "execution_count": 28,
   "metadata": {},
   "outputs": [
    {
     "data": {
      "text/html": [
       "<div>\n",
       "<style scoped>\n",
       "    .dataframe tbody tr th:only-of-type {\n",
       "        vertical-align: middle;\n",
       "    }\n",
       "\n",
       "    .dataframe tbody tr th {\n",
       "        vertical-align: top;\n",
       "    }\n",
       "\n",
       "    .dataframe thead th {\n",
       "        text-align: right;\n",
       "    }\n",
       "</style>\n",
       "<table border=\"1\" class=\"dataframe\">\n",
       "  <thead>\n",
       "    <tr style=\"text-align: right;\">\n",
       "      <th></th>\n",
       "      <th>City</th>\n",
       "      <th>Country</th>\n",
       "      <th>Max Temp</th>\n",
       "      <th>Lat</th>\n",
       "      <th>Lng</th>\n",
       "      <th>Hotel Name</th>\n",
       "    </tr>\n",
       "  </thead>\n",
       "  <tbody>\n",
       "    <tr>\n",
       "      <th>1</th>\n",
       "      <td>Wilmington</td>\n",
       "      <td>US</td>\n",
       "      <td>75.20</td>\n",
       "      <td>34.23</td>\n",
       "      <td>-77.94</td>\n",
       "      <td></td>\n",
       "    </tr>\n",
       "    <tr>\n",
       "      <th>8</th>\n",
       "      <td>Atuona</td>\n",
       "      <td>PF</td>\n",
       "      <td>81.00</td>\n",
       "      <td>-9.80</td>\n",
       "      <td>-139.03</td>\n",
       "      <td></td>\n",
       "    </tr>\n",
       "    <tr>\n",
       "      <th>10</th>\n",
       "      <td>Rikitea</td>\n",
       "      <td>PF</td>\n",
       "      <td>76.51</td>\n",
       "      <td>-23.12</td>\n",
       "      <td>-134.97</td>\n",
       "      <td></td>\n",
       "    </tr>\n",
       "    <tr>\n",
       "      <th>11</th>\n",
       "      <td>Butaritari</td>\n",
       "      <td>KI</td>\n",
       "      <td>83.52</td>\n",
       "      <td>3.07</td>\n",
       "      <td>172.79</td>\n",
       "      <td></td>\n",
       "    </tr>\n",
       "    <tr>\n",
       "      <th>13</th>\n",
       "      <td>Sao Felix Do Xingu</td>\n",
       "      <td>BR</td>\n",
       "      <td>76.26</td>\n",
       "      <td>-6.64</td>\n",
       "      <td>-51.99</td>\n",
       "      <td></td>\n",
       "    </tr>\n",
       "  </tbody>\n",
       "</table>\n",
       "</div>"
      ],
      "text/plain": [
       "                  City Country  Max Temp    Lat     Lng Hotel Name\n",
       "1           Wilmington      US     75.20  34.23  -77.94           \n",
       "8               Atuona      PF     81.00  -9.80 -139.03           \n",
       "10             Rikitea      PF     76.51 -23.12 -134.97           \n",
       "11          Butaritari      KI     83.52   3.07  172.79           \n",
       "13  Sao Felix Do Xingu      BR     76.26  -6.64  -51.99           "
      ]
     },
     "execution_count": 28,
     "metadata": {},
     "output_type": "execute_result"
    }
   ],
   "source": [
    "### 6.5.4\n",
    "## Now Get Travel Destinations : Preferred Cities\n",
    "hotel_df = preferred_cities_df[[\"City\", \"Country\", \"Max Temp\", \"Lat\", \"Lng\"]].copy()\n",
    "hotel_df[\"Hotel Name\"] = \"\"\n",
    "hotel_df.head()"
   ]
  },
  {
   "cell_type": "code",
   "execution_count": 25,
   "metadata": {},
   "outputs": [],
   "source": [
    "### Using lat and Lng and specific params\n",
    "##  use Google Places Nearby Search and request\n",
    "##  to retrieve a hotel"
   ]
  },
  {
   "cell_type": "code",
   "execution_count": null,
   "metadata": {},
   "outputs": [],
   "source": [
    "##  A Nearby Search request uses\n",
    "## https://maps.googleapis.com/maps/api/place/findplacefromtext/output?parameters\n",
    "## output can be json or XML. json recommended\n",
    "## Required parameters\n",
    "    # api key\n",
    "    # location  (lat,lng)\n",
    "    # radius  - in meters\n",
    "##  Optional Parameters\n",
    "    # keyword\n",
    "    # language - language code\n",
    "    # minprice and maxprice  0-4  least to most affordable  \n",
    "    # name -  also searches keyword\n",
    "    # opennow - caution. will exclude places that don't show hours\n",
    "    # rankby = distance. cannot use with radius()\n",
    "        # prominence - google rank\n",
    "        # distance\n",
    "    # type\n",
    "    # pagetoken - returns up to 20 results from prev search\n"
   ]
  },
  {
   "cell_type": "code",
   "execution_count": 26,
   "metadata": {},
   "outputs": [],
   "source": [
    "### practice using Requests and Google API\n",
    " ##\n",
    " ## First Set the Parameters to be passed to the API Call\n",
    "  #  Create a dictionary of parameters  \n",
    "params = {\"radius\": 5000  # 5000 meters from location\n",
    "          ,\"type\": \"lodging\" # get us a hotel\n",
    "          ,\"key\": g_key # our api key\n",
    "          ,next_page_token:\n",
    "         }   "
   ]
  },
  {
   "cell_type": "code",
   "execution_count": 31,
   "metadata": {},
   "outputs": [
    {
     "name": "stdout",
     "output_type": "stream",
     "text": [
      "Hotel not found... skipping.\n",
      "Hotel not found... skipping.\n",
      "Hotel not found... skipping.\n",
      "Hotel not found... skipping.\n",
      "Hotel not found... skipping.\n",
      "Hotel not found... skipping.\n",
      "Hotel not found... skipping.\n",
      "Hotel not found... skipping.\n",
      "Hotel not found... skipping.\n",
      "Hotel not found... skipping.\n",
      "Hotel not found... skipping.\n",
      "Hotel not found... skipping.\n",
      "Hotel not found... skipping.\n",
      "Hotel not found... skipping.\n",
      "Hotel not found... skipping.\n",
      "Hotel not found... skipping.\n",
      "Hotel not found... skipping.\n"
     ]
    }
   ],
   "source": [
    "###  Iterate through the DataFrame.\n",
    "\n",
    "for index, row in hotel_df.iterrows():\n",
    "    # Get the latitude and longitude.\n",
    "    lat = row[\"Lat\"]\n",
    "    lng = row[\"Lng\"]\n",
    "\n",
    "    # Add the latitude and longitude to the params dictionary \n",
    "    # as values to the location key.\n",
    "    params[\"location\"] = f\"{lat},{lng}\"\n",
    "\n",
    "    # Use the search term: \"lodging\" and our latitude and longitude.\n",
    "    base_url = \"https://maps.googleapis.com/maps/api/place/nearbysearch/json\"\n",
    "    \n",
    "    # Make request and get the JSON data from the search.\n",
    "    hotels = requests.get(base_url, params=params).json()\n",
    "    try:\n",
    "    # Grab the first hotel from the results and store the name.\n",
    "        hotel_df.loc[index, \"Hotel Name\"] = hotels[\"results\"][0][\"name\"]\n",
    "    except(IndexError):\n",
    "        print(\"Hotel not found... skipping.\")"
   ]
  },
  {
   "cell_type": "code",
   "execution_count": 1,
   "metadata": {},
   "outputs": [
    {
     "ename": "NameError",
     "evalue": "name 'hotel_df' is not defined",
     "output_type": "error",
     "traceback": [
      "\u001b[1;31m---------------------------------------------------------------------------\u001b[0m",
      "\u001b[1;31mNameError\u001b[0m                                 Traceback (most recent call last)",
      "\u001b[1;32m<ipython-input-1-383775de4cc2>\u001b[0m in \u001b[0;36m<module>\u001b[1;34m\u001b[0m\n\u001b[0;32m      1\u001b[0m \u001b[1;31m## review\u001b[0m\u001b[1;33m\u001b[0m\u001b[1;33m\u001b[0m\u001b[1;33m\u001b[0m\u001b[0m\n\u001b[1;32m----> 2\u001b[1;33m \u001b[0mhotel_df\u001b[0m\u001b[1;33m\u001b[0m\u001b[1;33m\u001b[0m\u001b[0m\n\u001b[0m",
      "\u001b[1;31mNameError\u001b[0m: name 'hotel_df' is not defined"
     ]
    }
   ],
   "source": [
    "## review\n",
    "hotel_df"
   ]
  },
  {
   "cell_type": "code",
   "execution_count": 36,
   "metadata": {},
   "outputs": [
    {
     "data": {
      "application/vnd.jupyter.widget-view+json": {
       "model_id": "6d11a00876be4b498a903288fae4f352",
       "version_major": 2,
       "version_minor": 0
      },
      "text/plain": [
       "Figure(layout=FigureLayout(height='420px'))"
      ]
     },
     "metadata": {},
     "output_type": "display_data"
    }
   ],
   "source": [
    "### 6.5.4 Create a Maximum Temperature Heatmap from a Hotel DataFrame\n",
    "\n",
    "# Get X: the latitude and longitude.\n",
    "locations = hotel_df[[\"Lat\", \"Lng\"]]\n",
    "\n",
    "# Get Y: the maximum temperature.\n",
    "max_temp = hotel_df[\"Max Temp\"]\n",
    "\n",
    "# Create figure var with parameters: Add a center and Zoom.  30 deg north 31 east\n",
    "fig= gmaps.figure(center=(30.0, 31.0), zoom_level=1.5)\n",
    "\n",
    "# Create the heatmap layer with parameters\n",
    "heat_layer = gmaps.heatmap_layer(locations,weights= max_temp,dissipating=False,max_intensity=300, point_radius=4)\n",
    "\n",
    "\n",
    "# Create the marker layer with parameters\n",
    "marker_layer = gmaps.marker_layer(locations)\n",
    "\n",
    "# Add the heatmap layer.\n",
    "fig.add_layer(heat_layer)\n",
    "\n",
    "# Add the marker layer\n",
    "fig.add_layer(marker_layer)\n",
    "\n",
    "# Call the figure to plot the data.\n",
    "fig\n"
   ]
  },
  {
   "cell_type": "code",
   "execution_count": 39,
   "metadata": {},
   "outputs": [],
   "source": [
    "## Create the infobox template as required by the Google API for markers,\n",
    "\n",
    "info_box_template = \"\"\"\n",
    "<dl>\n",
    "<dt>Hotel Name</dt><dd>{Hotel Name}</dd>\n",
    "<dt>City</dt><dd>{City}</dd>\n",
    "<dt>Country</dt><dd>{Country}</dd>\n",
    "<dt>Max Temp</dt><dd>{Max Temp} °F</dd>\n",
    "</dl>\n",
    "\"\"\""
   ]
  },
  {
   "cell_type": "code",
   "execution_count": 40,
   "metadata": {},
   "outputs": [],
   "source": [
    "# Store the DataFrame Row. formats entire row, for each row. \n",
    "hotel_info = [info_box_template.format(**row) for index, row in hotel_df.iterrows()]"
   ]
  },
  {
   "cell_type": "code",
   "execution_count": 41,
   "metadata": {},
   "outputs": [
    {
     "data": {
      "application/vnd.jupyter.widget-view+json": {
       "model_id": "6c4d6c5fe62249f9afd9d111647af167",
       "version_major": 2,
       "version_minor": 0
      },
      "text/plain": [
       "Figure(layout=FigureLayout(height='420px'))"
      ]
     },
     "metadata": {},
     "output_type": "display_data"
    }
   ],
   "source": [
    "### 6.5.4 Create a Maximum Temperature Heatmap from a Hotel DataFrame\n",
    "##  Adding the Markers\n",
    "\n",
    "# Get X: the latitude and longitude.\n",
    "locations = hotel_df[[\"Lat\", \"Lng\"]]\n",
    "\n",
    "# Get Y: the maximum temperature.\n",
    "max_temp = hotel_df[\"Max Temp\"]\n",
    "\n",
    "# Create figure var with parameters: Add a center and Zoom.  30 deg north 31 east\n",
    "fig= gmaps.figure(center=(30.0, 31.0), zoom_level=1.5)\n",
    "\n",
    "# Create the heatmap layer with parameters\n",
    "heat_layer = gmaps.heatmap_layer(locations,weights= max_temp,dissipating=False,max_intensity=300, point_radius=4)\n",
    "\n",
    "\n",
    "# Create the marker layer with parameters\n",
    "marker_layer = gmaps.marker_layer(locations, info_box_content=hotel_info)\n",
    "\n",
    "# Add the heatmap layer.\n",
    "fig.add_layer(heat_layer)\n",
    "\n",
    "# Add the marker layer\n",
    "fig.add_layer(marker_layer)\n",
    "\n",
    "# Call the figure to plot the data.\n",
    "fig\n"
   ]
  },
  {
   "cell_type": "code",
   "execution_count": null,
   "metadata": {},
   "outputs": [],
   "source": [
    "## Save, commit, push. "
   ]
  }
 ],
 "metadata": {
  "kernelspec": {
   "display_name": "PythonData",
   "language": "python",
   "name": "pythondata"
  },
  "language_info": {
   "codemirror_mode": {
    "name": "ipython",
    "version": 3
   },
   "file_extension": ".py",
   "mimetype": "text/x-python",
   "name": "python",
   "nbconvert_exporter": "python",
   "pygments_lexer": "ipython3",
   "version": "3.6.9"
  }
 },
 "nbformat": 4,
 "nbformat_minor": 2
}
