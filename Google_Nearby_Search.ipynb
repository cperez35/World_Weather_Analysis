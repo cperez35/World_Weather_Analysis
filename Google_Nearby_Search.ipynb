{
 "cells": [
  {
   "cell_type": "code",
   "execution_count": 2,
   "metadata": {},
   "outputs": [],
   "source": [
    "## Dependencies and environment preparation\n",
    "import requests # for html handling\n",
    "import gmaps  # google maps\n",
    "\n",
    "#Import API key\n",
    "from config import g_key"
   ]
  },
  {
   "cell_type": "code",
   "execution_count": 11,
   "metadata": {},
   "outputs": [],
   "source": [
    "# Set the parament to search for a hotel\n",
    "params = {\n",
    "    \"radius\": 5000  # 5000 meters from location\n",
    "    ,\"type\": \"lodging\" # get us a hotel\n",
    "    ,\"key\": g_key # our api key\n",
    "    ,\"location\" : \"48.8566, 2.3522\"\n",
    "    #,\"pagetoken\" : 5 # returns up to 20 results from previously saved search\n",
    "    }\n",
    "\n",
    "#  Use base url: search for hotels in Paris\n",
    "base_url = \"https://maps.googleapis.com/maps/api/place/nearbysearch/json\"\n",
    "\n",
    "# Make request using base_url and parameters\n",
    "hotels = requests.get(base_url, params=params).json()"
   ]
  },
  {
   "cell_type": "code",
   "execution_count": 30,
   "metadata": {},
   "outputs": [],
   "source": [
    "# review the data\n",
    "#len(hotels[\"results\"])\n",
    "#hotels"
   ]
  },
  {
   "cell_type": "code",
   "execution_count": 21,
   "metadata": {},
   "outputs": [
    {
     "data": {
      "text/plain": [
       "'Citadines Saint-Germain-des-Prés Paris'"
      ]
     },
     "execution_count": 21,
     "metadata": {},
     "output_type": "execute_result"
    }
   ],
   "source": [
    "## return name of first hotel\n",
    "hotels[\"results\"][5][\"name\"]"
   ]
  }
 ],
 "metadata": {
  "kernelspec": {
   "display_name": "PythonData",
   "language": "python",
   "name": "pythondata"
  },
  "language_info": {
   "codemirror_mode": {
    "name": "ipython",
    "version": 3
   },
   "file_extension": ".py",
   "mimetype": "text/x-python",
   "name": "python",
   "nbconvert_exporter": "python",
   "pygments_lexer": "ipython3",
   "version": "3.6.9"
  }
 },
 "nbformat": 4,
 "nbformat_minor": 2
}
