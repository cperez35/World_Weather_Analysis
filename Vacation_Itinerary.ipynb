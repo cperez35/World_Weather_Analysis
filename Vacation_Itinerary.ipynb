{
 "cells": [
  {
   "cell_type": "code",
   "execution_count": 1,
   "metadata": {},
   "outputs": [],
   "source": [
    "#### Module 6 Challenge Part 3. Create a Travel Itinerary with a Corresponding Map\n",
    "###  3.1 Create new Jup NB as Vacation_Itinerary\n",
    "###  3.2 Import WeatherPy_vacation.csv as new DF\n",
    "###  3.3 From the vacation search map, \n",
    "###      choose at least four cities in close proximity on your map that are on the same continent that customer may like\n",
    "###      and create a directions layer map.\n",
    "###  3.4 Create needed dataframes. One per city and one with all the filtered cities. \n",
    "###      Use list indexing to get the latitude and longitude pairs\n",
    "###  3.5 Create the WeatherPy_travel_map.png\n",
    "###  3.6 Create the marker layer travel map as WeatherPy_travel_map_markers.png\n",
    "###      use info_box_template and iterate thru df to op info_box_template\n",
    "###      Create the marker layer travel map"
   ]
  },
  {
   "cell_type": "code",
   "execution_count": 65,
   "metadata": {},
   "outputs": [],
   "source": [
    "### Prepare Environment.\n",
    "import pandas as pd # our Panda friend\n",
    "import gmaps # the gmaps\n",
    "import gmaps.datasets # the gmaps... why we need this?\n",
    "\n",
    "# import requests # the html library for request Google Places JSON file ## not needed for this Py\n",
    "# import matplotlib.pyplot as plt # matplotlib for plotting ## not needed for this Py\n",
    "# import numpy as np  # numpy for calculations ## not needed for this Py\n",
    "# from citipy import citipy # Wendy Peng's amazing cities library ## not needed for this Py\n",
    "# from datetime import datetime # working with dates ## not needed for this Py\n",
    "# import time  # working with time ## not needed for this Py\n",
    "\n",
    "# ##  import our api keys\n",
    "# from config import weather_api_key  ## for weather data ## not needed for this Py\n",
    "from config import g_key ## for Googling"
   ]
  },
  {
   "cell_type": "code",
   "execution_count": 67,
   "metadata": {},
   "outputs": [
    {
     "data": {
      "text/html": [
       "<div>\n",
       "<style scoped>\n",
       "    .dataframe tbody tr th:only-of-type {\n",
       "        vertical-align: middle;\n",
       "    }\n",
       "\n",
       "    .dataframe tbody tr th {\n",
       "        vertical-align: top;\n",
       "    }\n",
       "\n",
       "    .dataframe thead th {\n",
       "        text-align: right;\n",
       "    }\n",
       "</style>\n",
       "<table border=\"1\" class=\"dataframe\">\n",
       "  <thead>\n",
       "    <tr style=\"text-align: right;\">\n",
       "      <th></th>\n",
       "      <th>City_ID</th>\n",
       "      <th>City</th>\n",
       "      <th>Country</th>\n",
       "      <th>Max Temp</th>\n",
       "      <th>Weather Description</th>\n",
       "      <th>Lat</th>\n",
       "      <th>Lng</th>\n",
       "      <th>Hotel Name</th>\n",
       "    </tr>\n",
       "  </thead>\n",
       "  <tbody>\n",
       "    <tr>\n",
       "      <th>0</th>\n",
       "      <td>1</td>\n",
       "      <td>Cape Town</td>\n",
       "      <td>ZA</td>\n",
       "      <td>73.99</td>\n",
       "      <td>few clouds</td>\n",
       "      <td>-33.93</td>\n",
       "      <td>18.42</td>\n",
       "      <td>Southern Sun Waterfront Cape Town</td>\n",
       "    </tr>\n",
       "    <tr>\n",
       "      <th>1</th>\n",
       "      <td>2</td>\n",
       "      <td>Ilo</td>\n",
       "      <td>PE</td>\n",
       "      <td>78.80</td>\n",
       "      <td>scattered clouds</td>\n",
       "      <td>-17.64</td>\n",
       "      <td>-71.34</td>\n",
       "      <td>Torreblanca Hotel</td>\n",
       "    </tr>\n",
       "    <tr>\n",
       "      <th>2</th>\n",
       "      <td>3</td>\n",
       "      <td>Flinders</td>\n",
       "      <td>AU</td>\n",
       "      <td>66.00</td>\n",
       "      <td>few clouds</td>\n",
       "      <td>-34.58</td>\n",
       "      <td>150.86</td>\n",
       "      <td>Shellharbour Resort &amp; Conference Centre</td>\n",
       "    </tr>\n",
       "    <tr>\n",
       "      <th>3</th>\n",
       "      <td>4</td>\n",
       "      <td>Dubai</td>\n",
       "      <td>AE</td>\n",
       "      <td>66.20</td>\n",
       "      <td>scattered clouds</td>\n",
       "      <td>25.26</td>\n",
       "      <td>55.30</td>\n",
       "      <td>Radisson Blu Hotel, Dubai Deira Creek</td>\n",
       "    </tr>\n",
       "    <tr>\n",
       "      <th>4</th>\n",
       "      <td>5</td>\n",
       "      <td>Kapaa</td>\n",
       "      <td>US</td>\n",
       "      <td>75.20</td>\n",
       "      <td>overcast clouds</td>\n",
       "      <td>22.08</td>\n",
       "      <td>-159.32</td>\n",
       "      <td>Sheraton Kauai Coconut Beach Resort</td>\n",
       "    </tr>\n",
       "  </tbody>\n",
       "</table>\n",
       "</div>"
      ],
      "text/plain": [
       "   City_ID       City Country  Max Temp Weather Description    Lat     Lng  \\\n",
       "0        1  Cape Town      ZA     73.99          few clouds -33.93   18.42   \n",
       "1        2        Ilo      PE     78.80    scattered clouds -17.64  -71.34   \n",
       "2        3   Flinders      AU     66.00          few clouds -34.58  150.86   \n",
       "3        4      Dubai      AE     66.20    scattered clouds  25.26   55.30   \n",
       "4        5      Kapaa      US     75.20     overcast clouds  22.08 -159.32   \n",
       "\n",
       "                                Hotel Name  \n",
       "0        Southern Sun Waterfront Cape Town  \n",
       "1                        Torreblanca Hotel  \n",
       "2  Shellharbour Resort & Conference Centre  \n",
       "3    Radisson Blu Hotel, Dubai Deira Creek  \n",
       "4      Sheraton Kauai Coconut Beach Resort  "
      ]
     },
     "execution_count": 67,
     "metadata": {},
     "output_type": "execute_result"
    }
   ],
   "source": [
    "### 3.2 Import Weather Data CSV as new Dataframe.\n",
    "city_data_df = pd.read_csv(\"weather_data/weatherPy_vacation.csv\")\n",
    "city_data_df.head()"
   ]
  },
  {
   "cell_type": "code",
   "execution_count": 69,
   "metadata": {},
   "outputs": [
    {
     "name": "stdout",
     "output_type": "stream",
     "text": [
      "<class 'pandas.core.frame.DataFrame'>\n",
      "Int64Index: 338 entries, 0 to 358\n",
      "Data columns (total 8 columns):\n",
      "City_ID                338 non-null int64\n",
      "City                   338 non-null object\n",
      "Country                338 non-null object\n",
      "Max Temp               338 non-null float64\n",
      "Weather Description    338 non-null object\n",
      "Lat                    338 non-null float64\n",
      "Lng                    338 non-null float64\n",
      "Hotel Name             338 non-null object\n",
      "dtypes: float64(3), int64(1), object(4)\n",
      "memory usage: 23.8+ KB\n"
     ]
    }
   ],
   "source": [
    "## Data Cleanup\n",
    "#city_data_df.info() # we have some nulls in hotel names.\n",
    "city_data_df.dropna(inplace=True)  ## drop 7 missing countries\n",
    "city_data_df.info() \n",
    "#city_data_df.describe()"
   ]
  },
  {
   "cell_type": "code",
   "execution_count": 71,
   "metadata": {},
   "outputs": [
    {
     "data": {
      "text/html": [
       "<div>\n",
       "<style scoped>\n",
       "    .dataframe tbody tr th:only-of-type {\n",
       "        vertical-align: middle;\n",
       "    }\n",
       "\n",
       "    .dataframe tbody tr th {\n",
       "        vertical-align: top;\n",
       "    }\n",
       "\n",
       "    .dataframe thead th {\n",
       "        text-align: right;\n",
       "    }\n",
       "</style>\n",
       "<table border=\"1\" class=\"dataframe\">\n",
       "  <thead>\n",
       "    <tr style=\"text-align: right;\">\n",
       "      <th></th>\n",
       "      <th>City_ID</th>\n",
       "      <th>City</th>\n",
       "      <th>Country</th>\n",
       "      <th>Max Temp</th>\n",
       "      <th>Weather Description</th>\n",
       "      <th>Lat</th>\n",
       "      <th>Lng</th>\n",
       "      <th>Hotel Name</th>\n",
       "    </tr>\n",
       "  </thead>\n",
       "  <tbody>\n",
       "    <tr>\n",
       "      <th>28</th>\n",
       "      <td>43</td>\n",
       "      <td>Cidreira</td>\n",
       "      <td>BR</td>\n",
       "      <td>75.49</td>\n",
       "      <td>few clouds</td>\n",
       "      <td>-30.18</td>\n",
       "      <td>-50.21</td>\n",
       "      <td>Novomar Pousada e Turismo Ltda</td>\n",
       "    </tr>\n",
       "    <tr>\n",
       "      <th>36</th>\n",
       "      <td>53</td>\n",
       "      <td>Castro</td>\n",
       "      <td>BR</td>\n",
       "      <td>82.45</td>\n",
       "      <td>overcast clouds</td>\n",
       "      <td>-24.79</td>\n",
       "      <td>-50.01</td>\n",
       "      <td>CHACARA BAILLY</td>\n",
       "    </tr>\n",
       "    <tr>\n",
       "      <th>59</th>\n",
       "      <td>90</td>\n",
       "      <td>Rocha</td>\n",
       "      <td>UY</td>\n",
       "      <td>95.29</td>\n",
       "      <td>scattered clouds</td>\n",
       "      <td>-34.48</td>\n",
       "      <td>-54.33</td>\n",
       "      <td>Beleza Pura B&amp;B</td>\n",
       "    </tr>\n",
       "    <tr>\n",
       "      <th>102</th>\n",
       "      <td>164</td>\n",
       "      <td>Araquari</td>\n",
       "      <td>BR</td>\n",
       "      <td>84.99</td>\n",
       "      <td>few clouds</td>\n",
       "      <td>-26.37</td>\n",
       "      <td>-48.72</td>\n",
       "      <td>Hotel Zanella Jasper</td>\n",
       "    </tr>\n",
       "    <tr>\n",
       "      <th>154</th>\n",
       "      <td>254</td>\n",
       "      <td>Chuy</td>\n",
       "      <td>UY</td>\n",
       "      <td>85.19</td>\n",
       "      <td>few clouds</td>\n",
       "      <td>-33.70</td>\n",
       "      <td>-53.46</td>\n",
       "      <td>Nuevo Hotel Plaza</td>\n",
       "    </tr>\n",
       "  </tbody>\n",
       "</table>\n",
       "</div>"
      ],
      "text/plain": [
       "     City_ID      City Country  Max Temp Weather Description    Lat    Lng  \\\n",
       "28        43  Cidreira      BR     75.49          few clouds -30.18 -50.21   \n",
       "36        53    Castro      BR     82.45     overcast clouds -24.79 -50.01   \n",
       "59        90     Rocha      UY     95.29    scattered clouds -34.48 -54.33   \n",
       "102      164  Araquari      BR     84.99          few clouds -26.37 -48.72   \n",
       "154      254      Chuy      UY     85.19          few clouds -33.70 -53.46   \n",
       "\n",
       "                         Hotel Name  \n",
       "28   Novomar Pousada e Turismo Ltda  \n",
       "36                   CHACARA BAILLY  \n",
       "59                  Beleza Pura B&B  \n",
       "102            Hotel Zanella Jasper  \n",
       "154               Nuevo Hotel Plaza  "
      ]
     },
     "execution_count": 71,
     "metadata": {},
     "output_type": "execute_result"
    }
   ],
   "source": [
    "##  3.4.1 Create dataframe with five target cities,\n",
    "\n",
    "cities = [\"Castro\",\"Araquari\",\"Cidreira\", \"Chuy\", \"Rocha\"]\n",
    "city_data_five_df = city_data_df.loc[(city_data_df[\"City\"].isin(cities))] \n",
    "city_data_five_df"
   ]
  },
  {
   "cell_type": "code",
   "execution_count": 72,
   "metadata": {},
   "outputs": [
    {
     "data": {
      "text/html": [
       "<div>\n",
       "<style scoped>\n",
       "    .dataframe tbody tr th:only-of-type {\n",
       "        vertical-align: middle;\n",
       "    }\n",
       "\n",
       "    .dataframe tbody tr th {\n",
       "        vertical-align: top;\n",
       "    }\n",
       "\n",
       "    .dataframe thead th {\n",
       "        text-align: right;\n",
       "    }\n",
       "</style>\n",
       "<table border=\"1\" class=\"dataframe\">\n",
       "  <thead>\n",
       "    <tr style=\"text-align: right;\">\n",
       "      <th></th>\n",
       "      <th>City_ID</th>\n",
       "      <th>City</th>\n",
       "      <th>Country</th>\n",
       "      <th>Max Temp</th>\n",
       "      <th>Weather Description</th>\n",
       "      <th>Lat</th>\n",
       "      <th>Lng</th>\n",
       "      <th>Hotel Name</th>\n",
       "    </tr>\n",
       "  </thead>\n",
       "  <tbody>\n",
       "    <tr>\n",
       "      <th>36</th>\n",
       "      <td>53</td>\n",
       "      <td>Castro</td>\n",
       "      <td>BR</td>\n",
       "      <td>82.45</td>\n",
       "      <td>overcast clouds</td>\n",
       "      <td>-24.79</td>\n",
       "      <td>-50.01</td>\n",
       "      <td>CHACARA BAILLY</td>\n",
       "    </tr>\n",
       "  </tbody>\n",
       "</table>\n",
       "</div>"
      ],
      "text/plain": [
       "    City_ID    City Country  Max Temp Weather Description    Lat    Lng  \\\n",
       "36       53  Castro      BR     82.45     overcast clouds -24.79 -50.01   \n",
       "\n",
       "        Hotel Name  \n",
       "36  CHACARA BAILLY  "
      ]
     },
     "execution_count": 72,
     "metadata": {},
     "output_type": "execute_result"
    }
   ],
   "source": [
    "##  3.4.2 Create dataframe per city\n",
    "## Start with Castro Brazil\n",
    "castro_city_df=city_data_df[city_data_df[\"City\"]==\"Castro\"]\n",
    "castro_city_df"
   ]
  },
  {
   "cell_type": "code",
   "execution_count": 73,
   "metadata": {},
   "outputs": [
    {
     "data": {
      "text/html": [
       "<div>\n",
       "<style scoped>\n",
       "    .dataframe tbody tr th:only-of-type {\n",
       "        vertical-align: middle;\n",
       "    }\n",
       "\n",
       "    .dataframe tbody tr th {\n",
       "        vertical-align: top;\n",
       "    }\n",
       "\n",
       "    .dataframe thead th {\n",
       "        text-align: right;\n",
       "    }\n",
       "</style>\n",
       "<table border=\"1\" class=\"dataframe\">\n",
       "  <thead>\n",
       "    <tr style=\"text-align: right;\">\n",
       "      <th></th>\n",
       "      <th>City_ID</th>\n",
       "      <th>City</th>\n",
       "      <th>Country</th>\n",
       "      <th>Max Temp</th>\n",
       "      <th>Weather Description</th>\n",
       "      <th>Lat</th>\n",
       "      <th>Lng</th>\n",
       "      <th>Hotel Name</th>\n",
       "    </tr>\n",
       "  </thead>\n",
       "  <tbody>\n",
       "    <tr>\n",
       "      <th>102</th>\n",
       "      <td>164</td>\n",
       "      <td>Araquari</td>\n",
       "      <td>BR</td>\n",
       "      <td>84.99</td>\n",
       "      <td>few clouds</td>\n",
       "      <td>-26.37</td>\n",
       "      <td>-48.72</td>\n",
       "      <td>Hotel Zanella Jasper</td>\n",
       "    </tr>\n",
       "  </tbody>\n",
       "</table>\n",
       "</div>"
      ],
      "text/plain": [
       "     City_ID      City Country  Max Temp Weather Description    Lat    Lng  \\\n",
       "102      164  Araquari      BR     84.99          few clouds -26.37 -48.72   \n",
       "\n",
       "               Hotel Name  \n",
       "102  Hotel Zanella Jasper  "
      ]
     },
     "execution_count": 73,
     "metadata": {},
     "output_type": "execute_result"
    }
   ],
   "source": [
    "##  3.4.2 Create dataframe per city\n",
    "## 2nd city is Araquari, Brazil\n",
    "araquari_city_df=city_data_df[city_data_df[\"City\"]==\"Araquari\"]\n",
    "araquari_city_df"
   ]
  },
  {
   "cell_type": "code",
   "execution_count": 74,
   "metadata": {},
   "outputs": [
    {
     "data": {
      "text/html": [
       "<div>\n",
       "<style scoped>\n",
       "    .dataframe tbody tr th:only-of-type {\n",
       "        vertical-align: middle;\n",
       "    }\n",
       "\n",
       "    .dataframe tbody tr th {\n",
       "        vertical-align: top;\n",
       "    }\n",
       "\n",
       "    .dataframe thead th {\n",
       "        text-align: right;\n",
       "    }\n",
       "</style>\n",
       "<table border=\"1\" class=\"dataframe\">\n",
       "  <thead>\n",
       "    <tr style=\"text-align: right;\">\n",
       "      <th></th>\n",
       "      <th>City_ID</th>\n",
       "      <th>City</th>\n",
       "      <th>Country</th>\n",
       "      <th>Max Temp</th>\n",
       "      <th>Weather Description</th>\n",
       "      <th>Lat</th>\n",
       "      <th>Lng</th>\n",
       "      <th>Hotel Name</th>\n",
       "    </tr>\n",
       "  </thead>\n",
       "  <tbody>\n",
       "    <tr>\n",
       "      <th>28</th>\n",
       "      <td>43</td>\n",
       "      <td>Cidreira</td>\n",
       "      <td>BR</td>\n",
       "      <td>75.49</td>\n",
       "      <td>few clouds</td>\n",
       "      <td>-30.18</td>\n",
       "      <td>-50.21</td>\n",
       "      <td>Novomar Pousada e Turismo Ltda</td>\n",
       "    </tr>\n",
       "  </tbody>\n",
       "</table>\n",
       "</div>"
      ],
      "text/plain": [
       "    City_ID      City Country  Max Temp Weather Description    Lat    Lng  \\\n",
       "28       43  Cidreira      BR     75.49          few clouds -30.18 -50.21   \n",
       "\n",
       "                        Hotel Name  \n",
       "28  Novomar Pousada e Turismo Ltda  "
      ]
     },
     "execution_count": 74,
     "metadata": {},
     "output_type": "execute_result"
    }
   ],
   "source": [
    "##  3.4.2 Create dataframe per city\n",
    "## 3rd city is Cidreira, Brazil\n",
    "cidreira_city_df=city_data_df[city_data_df[\"City\"]==\"Cidreira\"]\n",
    "cidreira_city_df"
   ]
  },
  {
   "cell_type": "code",
   "execution_count": 75,
   "metadata": {},
   "outputs": [
    {
     "data": {
      "text/html": [
       "<div>\n",
       "<style scoped>\n",
       "    .dataframe tbody tr th:only-of-type {\n",
       "        vertical-align: middle;\n",
       "    }\n",
       "\n",
       "    .dataframe tbody tr th {\n",
       "        vertical-align: top;\n",
       "    }\n",
       "\n",
       "    .dataframe thead th {\n",
       "        text-align: right;\n",
       "    }\n",
       "</style>\n",
       "<table border=\"1\" class=\"dataframe\">\n",
       "  <thead>\n",
       "    <tr style=\"text-align: right;\">\n",
       "      <th></th>\n",
       "      <th>City_ID</th>\n",
       "      <th>City</th>\n",
       "      <th>Country</th>\n",
       "      <th>Max Temp</th>\n",
       "      <th>Weather Description</th>\n",
       "      <th>Lat</th>\n",
       "      <th>Lng</th>\n",
       "      <th>Hotel Name</th>\n",
       "    </tr>\n",
       "  </thead>\n",
       "  <tbody>\n",
       "    <tr>\n",
       "      <th>154</th>\n",
       "      <td>254</td>\n",
       "      <td>Chuy</td>\n",
       "      <td>UY</td>\n",
       "      <td>85.19</td>\n",
       "      <td>few clouds</td>\n",
       "      <td>-33.7</td>\n",
       "      <td>-53.46</td>\n",
       "      <td>Nuevo Hotel Plaza</td>\n",
       "    </tr>\n",
       "  </tbody>\n",
       "</table>\n",
       "</div>"
      ],
      "text/plain": [
       "     City_ID  City Country  Max Temp Weather Description   Lat    Lng  \\\n",
       "154      254  Chuy      UY     85.19          few clouds -33.7 -53.46   \n",
       "\n",
       "            Hotel Name  \n",
       "154  Nuevo Hotel Plaza  "
      ]
     },
     "execution_count": 75,
     "metadata": {},
     "output_type": "execute_result"
    }
   ],
   "source": [
    "##  3.4.2 Create dataframe per city\n",
    "## 4th city is Chuy, Uruguay\n",
    "chuy_city_df=city_data_df[city_data_df[\"City\"]==\"Chuy\"]\n",
    "chuy_city_df"
   ]
  },
  {
   "cell_type": "code",
   "execution_count": 76,
   "metadata": {},
   "outputs": [
    {
     "data": {
      "text/html": [
       "<div>\n",
       "<style scoped>\n",
       "    .dataframe tbody tr th:only-of-type {\n",
       "        vertical-align: middle;\n",
       "    }\n",
       "\n",
       "    .dataframe tbody tr th {\n",
       "        vertical-align: top;\n",
       "    }\n",
       "\n",
       "    .dataframe thead th {\n",
       "        text-align: right;\n",
       "    }\n",
       "</style>\n",
       "<table border=\"1\" class=\"dataframe\">\n",
       "  <thead>\n",
       "    <tr style=\"text-align: right;\">\n",
       "      <th></th>\n",
       "      <th>City_ID</th>\n",
       "      <th>City</th>\n",
       "      <th>Country</th>\n",
       "      <th>Max Temp</th>\n",
       "      <th>Weather Description</th>\n",
       "      <th>Lat</th>\n",
       "      <th>Lng</th>\n",
       "      <th>Hotel Name</th>\n",
       "    </tr>\n",
       "  </thead>\n",
       "  <tbody>\n",
       "    <tr>\n",
       "      <th>59</th>\n",
       "      <td>90</td>\n",
       "      <td>Rocha</td>\n",
       "      <td>UY</td>\n",
       "      <td>95.29</td>\n",
       "      <td>scattered clouds</td>\n",
       "      <td>-34.48</td>\n",
       "      <td>-54.33</td>\n",
       "      <td>Beleza Pura B&amp;B</td>\n",
       "    </tr>\n",
       "  </tbody>\n",
       "</table>\n",
       "</div>"
      ],
      "text/plain": [
       "    City_ID   City Country  Max Temp Weather Description    Lat    Lng  \\\n",
       "59       90  Rocha      UY     95.29    scattered clouds -34.48 -54.33   \n",
       "\n",
       "         Hotel Name  \n",
       "59  Beleza Pura B&B  "
      ]
     },
     "execution_count": 76,
     "metadata": {},
     "output_type": "execute_result"
    }
   ],
   "source": [
    "##  3.4.2 Create dataframe per city\n",
    "## 5th city is Rocha,\n",
    "rocha_city_df=city_data_df[city_data_df[\"City\"]==\"Rocha\"]\n",
    "rocha_city_df"
   ]
  },
  {
   "cell_type": "code",
   "execution_count": 77,
   "metadata": {},
   "outputs": [
    {
     "data": {
      "text/html": [
       "<div>\n",
       "<style scoped>\n",
       "    .dataframe tbody tr th:only-of-type {\n",
       "        vertical-align: middle;\n",
       "    }\n",
       "\n",
       "    .dataframe tbody tr th {\n",
       "        vertical-align: top;\n",
       "    }\n",
       "\n",
       "    .dataframe thead th {\n",
       "        text-align: right;\n",
       "    }\n",
       "</style>\n",
       "<table border=\"1\" class=\"dataframe\">\n",
       "  <thead>\n",
       "    <tr style=\"text-align: right;\">\n",
       "      <th></th>\n",
       "      <th>City_ID</th>\n",
       "      <th>City</th>\n",
       "      <th>Country</th>\n",
       "      <th>Max Temp</th>\n",
       "      <th>Weather Description</th>\n",
       "      <th>Lat</th>\n",
       "      <th>Lng</th>\n",
       "      <th>Hotel Name</th>\n",
       "    </tr>\n",
       "  </thead>\n",
       "  <tbody>\n",
       "    <tr>\n",
       "      <th>28</th>\n",
       "      <td>43</td>\n",
       "      <td>Cidreira</td>\n",
       "      <td>BR</td>\n",
       "      <td>75.49</td>\n",
       "      <td>few clouds</td>\n",
       "      <td>-30.18</td>\n",
       "      <td>-50.21</td>\n",
       "      <td>Novomar Pousada e Turismo Ltda</td>\n",
       "    </tr>\n",
       "    <tr>\n",
       "      <th>36</th>\n",
       "      <td>53</td>\n",
       "      <td>Castro</td>\n",
       "      <td>BR</td>\n",
       "      <td>82.45</td>\n",
       "      <td>overcast clouds</td>\n",
       "      <td>-24.79</td>\n",
       "      <td>-50.01</td>\n",
       "      <td>CHACARA BAILLY</td>\n",
       "    </tr>\n",
       "    <tr>\n",
       "      <th>59</th>\n",
       "      <td>90</td>\n",
       "      <td>Rocha</td>\n",
       "      <td>UY</td>\n",
       "      <td>95.29</td>\n",
       "      <td>scattered clouds</td>\n",
       "      <td>-34.48</td>\n",
       "      <td>-54.33</td>\n",
       "      <td>Beleza Pura B&amp;B</td>\n",
       "    </tr>\n",
       "    <tr>\n",
       "      <th>102</th>\n",
       "      <td>164</td>\n",
       "      <td>Araquari</td>\n",
       "      <td>BR</td>\n",
       "      <td>84.99</td>\n",
       "      <td>few clouds</td>\n",
       "      <td>-26.37</td>\n",
       "      <td>-48.72</td>\n",
       "      <td>Hotel Zanella Jasper</td>\n",
       "    </tr>\n",
       "    <tr>\n",
       "      <th>154</th>\n",
       "      <td>254</td>\n",
       "      <td>Chuy</td>\n",
       "      <td>UY</td>\n",
       "      <td>85.19</td>\n",
       "      <td>few clouds</td>\n",
       "      <td>-33.70</td>\n",
       "      <td>-53.46</td>\n",
       "      <td>Nuevo Hotel Plaza</td>\n",
       "    </tr>\n",
       "  </tbody>\n",
       "</table>\n",
       "</div>"
      ],
      "text/plain": [
       "     City_ID      City Country  Max Temp Weather Description    Lat    Lng  \\\n",
       "28        43  Cidreira      BR     75.49          few clouds -30.18 -50.21   \n",
       "36        53    Castro      BR     82.45     overcast clouds -24.79 -50.01   \n",
       "59        90     Rocha      UY     95.29    scattered clouds -34.48 -54.33   \n",
       "102      164  Araquari      BR     84.99          few clouds -26.37 -48.72   \n",
       "154      254      Chuy      UY     85.19          few clouds -33.70 -53.46   \n",
       "\n",
       "                         Hotel Name  \n",
       "28   Novomar Pousada e Turismo Ltda  \n",
       "36                   CHACARA BAILLY  \n",
       "59                  Beleza Pura B&B  \n",
       "102            Hotel Zanella Jasper  \n",
       "154               Nuevo Hotel Plaza  "
      ]
     },
     "execution_count": 77,
     "metadata": {},
     "output_type": "execute_result"
    }
   ],
   "source": [
    "## review\n",
    "city_data_five_df"
   ]
  },
  {
   "cell_type": "code",
   "execution_count": 78,
   "metadata": {},
   "outputs": [
    {
     "name": "stdout",
     "output_type": "stream",
     "text": [
      "Cidreira = (-30.18,-50.21)\n",
      "Castro = (-24.79,-50.01)\n",
      "Rocha = (-34.48,-54.33)\n",
      "Araquari = (-26.37,-48.72)\n",
      "Chuy = (-33.7,-53.46)\n"
     ]
    }
   ],
   "source": [
    "##  3.4  Use list indexing to get the latitude and longitude pairs\n",
    "\n",
    "for index, row in city_data_five_df.iterrows(): # for each row in the combined frame\n",
    "    # Get the latitude and longitude.\n",
    "    cit = row[\"City\"]\n",
    "    lat = row[\"Lat\"]\n",
    "    lng = row[\"Lng\"]\n",
    "\n",
    "  \n",
    "    print(f\"{cit} = ({lat},{lng})\")    "
   ]
  },
  {
   "cell_type": "code",
   "execution_count": 79,
   "metadata": {},
   "outputs": [
    {
     "name": "stdout",
     "output_type": "stream",
     "text": [
      "Cidreira = (-30.18,-50.21)\n"
     ]
    }
   ],
   "source": [
    "##  3.4  Use list indexing to get the latitude and longitude pairs per city. Just another way to do it,\n",
    "for index, row in cidreira_city_df.iterrows(): # for each row in the combined frame, Just another way to do it.\n",
    "    # Get the latitude and longitude.\n",
    "    cit = row[\"City\"]\n",
    "    lat = row[\"Lat\"]\n",
    "    lng = row[\"Lng\"]\n",
    "    cidreira=print(f\"{cit} = ({lat},{lng})\")   \n",
    "    cidreira"
   ]
  },
  {
   "cell_type": "code",
   "execution_count": 80,
   "metadata": {},
   "outputs": [
    {
     "data": {
      "application/vnd.jupyter.widget-view+json": {
       "model_id": "3b83bea7337b4d168316f3fa2e396567",
       "version_major": 2,
       "version_minor": 0
      },
      "text/plain": [
       "Figure(layout=FigureLayout(height='420px'))"
      ]
     },
     "metadata": {},
     "output_type": "display_data"
    }
   ],
   "source": [
    "### 3.5 Create the WeatherPy_travel_map.png\n",
    "\n",
    "# Latitude-longitude pairs\n",
    "Cidreira = (-30.18,-50.21)\n",
    "Castro = (-24.79,-50.01)\n",
    "Rocha = (-34.48,-54.33)\n",
    "Araquari = (-26.37,-48.72)\n",
    "Chuy = (-33.7,-53.46)\n",
    "\n",
    "# Create figure \n",
    "fig= gmaps.figure()\n",
    "\n",
    "## Directions layer\n",
    "city_five_layer = gmaps.directions_layer(Castro, Rocha, waypoints=[Araquari, Cidreira, Chuy], travel_mode='DRIVING',stroke_weight=3.0,stroke_color=\"red\")\n",
    "fig.add_layer(city_five_layer)\n",
    "\n",
    "fig"
   ]
  },
  {
   "cell_type": "code",
   "execution_count": 81,
   "metadata": {},
   "outputs": [],
   "source": [
    "### 3.6 Create the marker layer travel map as WeatherPy_travel_map_markers.png\n",
    "\n",
    "## 3.6.1 Start with info_box_template\n",
    "\n",
    "info_box_template = \"\"\"\n",
    "<dl>\n",
    "<dt>Hotel Name</dt><dd>{Hotel Name}</dd>\n",
    "<dt>City</dt><dd>{City}</dd>\n",
    "<dt>Country</dt><dd>{Country}</dd>\n",
    "<dt>Current Weather</dt><dd>{Weather Description} & {Max Temp} °F</dd> \n",
    "</dl>\n",
    "\"\"\""
   ]
  },
  {
   "cell_type": "code",
   "execution_count": 82,
   "metadata": {},
   "outputs": [],
   "source": [
    "## 3.6.2 Iterate through the Five Cities DataFrame by row, and populate the info_box_template\n",
    "hotel_info = [info_box_template.format(**row) for index, row in city_data_five_df.iterrows()]"
   ]
  },
  {
   "cell_type": "code",
   "execution_count": 83,
   "metadata": {},
   "outputs": [
    {
     "data": {
      "application/vnd.jupyter.widget-view+json": {
       "model_id": "238329197a884bb4a5473e4881fe12da",
       "version_major": 2,
       "version_minor": 0
      },
      "text/plain": [
       "Figure(layout=FigureLayout(height='420px'))"
      ]
     },
     "metadata": {},
     "output_type": "display_data"
    }
   ],
   "source": [
    "## 3.6.2 Create the marker layer travel map\n",
    "\n",
    "# Get X: the latitude and longitude.\n",
    "locations = city_data_five_df[[\"Lat\", \"Lng\"]]\n",
    "\n",
    "# Create figure var with parameters: Add a center and Zoom.  30 deg north 31 east\n",
    "fig= gmaps.figure()\n",
    "\n",
    "# Create the marker layer with parameters set in the info_box_template. \n",
    "marker_layer = gmaps.marker_layer(locations, info_box_content=hotel_info)\n",
    "\n",
    "# Add the marker layer\n",
    "fig.add_layer(marker_layer)\n",
    "\n",
    "# Call the figure to plot the data.\n",
    "fig"
   ]
  },
  {
   "cell_type": "code",
   "execution_count": 84,
   "metadata": {},
   "outputs": [],
   "source": [
    "## Save figures. Git Commit. Update."
   ]
  }
 ],
 "metadata": {
  "kernelspec": {
   "display_name": "PythonData",
   "language": "python",
   "name": "pythondata"
  },
  "language_info": {
   "codemirror_mode": {
    "name": "ipython",
    "version": 3
   },
   "file_extension": ".py",
   "mimetype": "text/x-python",
   "name": "python",
   "nbconvert_exporter": "python",
   "pygments_lexer": "ipython3",
   "version": "3.6.9"
  }
 },
 "nbformat": 4,
 "nbformat_minor": 2
}
